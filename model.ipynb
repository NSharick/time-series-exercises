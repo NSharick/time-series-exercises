{
 "cells": [
  {
   "cell_type": "markdown",
   "id": "7e0545bf",
   "metadata": {},
   "source": [
    "## Modeling Exercises - Time Series Data"
   ]
  },
  {
   "cell_type": "code",
   "execution_count": 7,
   "id": "a6c60345",
   "metadata": {},
   "outputs": [],
   "source": [
    "import pandas as pd\n",
    "import numpy as np\n",
    "import datetime\n",
    "import matplotlib.pyplot as plt\n",
    "import seaborn as sns\n",
    "from scipy import stats\n",
    "import statsmodels.api as sm\n",
    "from acquire import stores_items_sales_data\n",
    "from prepare import prep_sales\n",
    "from sklearn.metrics import mean_squared_error\n",
    "from math import sqrt\n",
    "import statsmodels.api as sm\n",
    "from statsmodels.tsa.api import Holt\n"
   ]
  },
  {
   "cell_type": "code",
   "execution_count": 3,
   "id": "58d38899",
   "metadata": {},
   "outputs": [
    {
     "name": "stdout",
     "output_type": "stream",
     "text": [
      "Reading from csv file...\n",
      "Reading from csv file...\n",
      "Reading from csv file...\n"
     ]
    },
    {
     "data": {
      "text/html": [
       "<div>\n",
       "<style scoped>\n",
       "    .dataframe tbody tr th:only-of-type {\n",
       "        vertical-align: middle;\n",
       "    }\n",
       "\n",
       "    .dataframe tbody tr th {\n",
       "        vertical-align: top;\n",
       "    }\n",
       "\n",
       "    .dataframe thead th {\n",
       "        text-align: right;\n",
       "    }\n",
       "</style>\n",
       "<table border=\"1\" class=\"dataframe\">\n",
       "  <thead>\n",
       "    <tr style=\"text-align: right;\">\n",
       "      <th></th>\n",
       "      <th>item_id</th>\n",
       "      <th>sale_amount</th>\n",
       "      <th>sale_id</th>\n",
       "      <th>store_id</th>\n",
       "      <th>item_brand</th>\n",
       "      <th>item_name</th>\n",
       "      <th>item_price</th>\n",
       "      <th>item_upc12</th>\n",
       "      <th>item_upc14</th>\n",
       "      <th>store_address</th>\n",
       "      <th>store_city</th>\n",
       "      <th>store_state</th>\n",
       "      <th>store_zipcode</th>\n",
       "      <th>month</th>\n",
       "      <th>day_of_week</th>\n",
       "      <th>sales_total</th>\n",
       "    </tr>\n",
       "    <tr>\n",
       "      <th>sale_date</th>\n",
       "      <th></th>\n",
       "      <th></th>\n",
       "      <th></th>\n",
       "      <th></th>\n",
       "      <th></th>\n",
       "      <th></th>\n",
       "      <th></th>\n",
       "      <th></th>\n",
       "      <th></th>\n",
       "      <th></th>\n",
       "      <th></th>\n",
       "      <th></th>\n",
       "      <th></th>\n",
       "      <th></th>\n",
       "      <th></th>\n",
       "      <th></th>\n",
       "    </tr>\n",
       "  </thead>\n",
       "  <tbody>\n",
       "    <tr>\n",
       "      <th>2013-01-01</th>\n",
       "      <td>1</td>\n",
       "      <td>13.0</td>\n",
       "      <td>1</td>\n",
       "      <td>1</td>\n",
       "      <td>Riceland</td>\n",
       "      <td>Riceland American Jazmine Rice</td>\n",
       "      <td>0.84</td>\n",
       "      <td>35200264013</td>\n",
       "      <td>35200264013</td>\n",
       "      <td>12125 Alamo Ranch Pkwy</td>\n",
       "      <td>San Antonio</td>\n",
       "      <td>TX</td>\n",
       "      <td>78253</td>\n",
       "      <td>01-Jan</td>\n",
       "      <td>2-Tuesday</td>\n",
       "      <td>10.92</td>\n",
       "    </tr>\n",
       "    <tr>\n",
       "      <th>2013-01-01</th>\n",
       "      <td>12</td>\n",
       "      <td>26.0</td>\n",
       "      <td>211817</td>\n",
       "      <td>7</td>\n",
       "      <td>Mueller</td>\n",
       "      <td>Mueller Sport Care Basic Support Level Medium ...</td>\n",
       "      <td>8.40</td>\n",
       "      <td>74676640211</td>\n",
       "      <td>74676640211</td>\n",
       "      <td>12018 Perrin Beitel Rd</td>\n",
       "      <td>San Antonio</td>\n",
       "      <td>TX</td>\n",
       "      <td>78217</td>\n",
       "      <td>01-Jan</td>\n",
       "      <td>2-Tuesday</td>\n",
       "      <td>218.40</td>\n",
       "    </tr>\n",
       "    <tr>\n",
       "      <th>2013-01-01</th>\n",
       "      <td>46</td>\n",
       "      <td>27.0</td>\n",
       "      <td>832657</td>\n",
       "      <td>7</td>\n",
       "      <td>Mama Marys</td>\n",
       "      <td>Pizza Sauce</td>\n",
       "      <td>4.65</td>\n",
       "      <td>35457770664</td>\n",
       "      <td>35457770664</td>\n",
       "      <td>12018 Perrin Beitel Rd</td>\n",
       "      <td>San Antonio</td>\n",
       "      <td>TX</td>\n",
       "      <td>78217</td>\n",
       "      <td>01-Jan</td>\n",
       "      <td>2-Tuesday</td>\n",
       "      <td>125.55</td>\n",
       "    </tr>\n",
       "    <tr>\n",
       "      <th>2013-01-01</th>\n",
       "      <td>12</td>\n",
       "      <td>54.0</td>\n",
       "      <td>213643</td>\n",
       "      <td>8</td>\n",
       "      <td>Mueller</td>\n",
       "      <td>Mueller Sport Care Basic Support Level Medium ...</td>\n",
       "      <td>8.40</td>\n",
       "      <td>74676640211</td>\n",
       "      <td>74676640211</td>\n",
       "      <td>15000 San Pedro Ave</td>\n",
       "      <td>San Antonio</td>\n",
       "      <td>TX</td>\n",
       "      <td>78232</td>\n",
       "      <td>01-Jan</td>\n",
       "      <td>2-Tuesday</td>\n",
       "      <td>453.60</td>\n",
       "    </tr>\n",
       "    <tr>\n",
       "      <th>2013-01-01</th>\n",
       "      <td>12</td>\n",
       "      <td>35.0</td>\n",
       "      <td>215469</td>\n",
       "      <td>9</td>\n",
       "      <td>Mueller</td>\n",
       "      <td>Mueller Sport Care Basic Support Level Medium ...</td>\n",
       "      <td>8.40</td>\n",
       "      <td>74676640211</td>\n",
       "      <td>74676640211</td>\n",
       "      <td>735 SW Military Dr</td>\n",
       "      <td>San Antonio</td>\n",
       "      <td>TX</td>\n",
       "      <td>78221</td>\n",
       "      <td>01-Jan</td>\n",
       "      <td>2-Tuesday</td>\n",
       "      <td>294.00</td>\n",
       "    </tr>\n",
       "  </tbody>\n",
       "</table>\n",
       "</div>"
      ],
      "text/plain": [
       "            item_id  sale_amount  sale_id  store_id  item_brand  \\\n",
       "sale_date                                                         \n",
       "2013-01-01        1         13.0        1         1    Riceland   \n",
       "2013-01-01       12         26.0   211817         7     Mueller   \n",
       "2013-01-01       46         27.0   832657         7  Mama Marys   \n",
       "2013-01-01       12         54.0   213643         8     Mueller   \n",
       "2013-01-01       12         35.0   215469         9     Mueller   \n",
       "\n",
       "                                                    item_name  item_price  \\\n",
       "sale_date                                                                   \n",
       "2013-01-01                     Riceland American Jazmine Rice        0.84   \n",
       "2013-01-01  Mueller Sport Care Basic Support Level Medium ...        8.40   \n",
       "2013-01-01                                        Pizza Sauce        4.65   \n",
       "2013-01-01  Mueller Sport Care Basic Support Level Medium ...        8.40   \n",
       "2013-01-01  Mueller Sport Care Basic Support Level Medium ...        8.40   \n",
       "\n",
       "             item_upc12   item_upc14           store_address   store_city  \\\n",
       "sale_date                                                                   \n",
       "2013-01-01  35200264013  35200264013  12125 Alamo Ranch Pkwy  San Antonio   \n",
       "2013-01-01  74676640211  74676640211  12018 Perrin Beitel Rd  San Antonio   \n",
       "2013-01-01  35457770664  35457770664  12018 Perrin Beitel Rd  San Antonio   \n",
       "2013-01-01  74676640211  74676640211     15000 San Pedro Ave  San Antonio   \n",
       "2013-01-01  74676640211  74676640211      735 SW Military Dr  San Antonio   \n",
       "\n",
       "           store_state  store_zipcode   month day_of_week  sales_total  \n",
       "sale_date                                                               \n",
       "2013-01-01          TX          78253  01-Jan   2-Tuesday        10.92  \n",
       "2013-01-01          TX          78217  01-Jan   2-Tuesday       218.40  \n",
       "2013-01-01          TX          78217  01-Jan   2-Tuesday       125.55  \n",
       "2013-01-01          TX          78232  01-Jan   2-Tuesday       453.60  \n",
       "2013-01-01          TX          78221  01-Jan   2-Tuesday       294.00  "
      ]
     },
     "execution_count": 3,
     "metadata": {},
     "output_type": "execute_result"
    }
   ],
   "source": [
    "df = stores_items_sales_data()\n",
    "df = prep_sales(df)\n",
    "df.head()"
   ]
  },
  {
   "cell_type": "code",
   "execution_count": 6,
   "id": "1a542dbe",
   "metadata": {},
   "outputs": [
    {
     "data": {
      "text/plain": [
       "[<matplotlib.lines.Line2D at 0x7faa993cd520>]"
      ]
     },
     "execution_count": 6,
     "metadata": {},
     "output_type": "execute_result"
    },
    {
     "data": {
      "image/png": "[encoded data removed]",
      "text/plain": [
       "<Figure size 864x288 with 1 Axes>"
      ]
     },
     "metadata": {
      "needs_background": "light"
     },
     "output_type": "display_data"
    }
   ],
   "source": [
    "df = df.resample('M').sum()\n",
    "train = df.loc[:'2015']\n",
    "validate = df.loc['2016']\n",
    "test = df.loc['2017']\n",
    "plt.figure(figsize=(12,4))\n",
    "plt.plot(train.index, train.sales_total)\n",
    "plt.plot(validate.index, validate.sales_total)\n",
    "plt.plot(test.index, test.sales_total)"
   ]
  },
  {
   "cell_type": "code",
   "execution_count": 8,
   "id": "ad12be2c",
   "metadata": {},
   "outputs": [],
   "source": [
    "def evaluate(target_var):\n",
    "    rmse = round(sqrt(mean_squared_error(validate[target_var], yhat_df[target_var])), 0)\n",
    "    return rmse"
   ]
  },
  {
   "cell_type": "code",
   "execution_count": 9,
   "id": "504f9d6e",
   "metadata": {},
   "outputs": [],
   "source": [
    "def plot_and_eval(target_var):\n",
    "    plt.figure(figsize = (12,4))\n",
    "    plt.plot(train[target_var], label = 'Train', linewidth = 1)\n",
    "    plt.plot(validate[target_var], label = 'Validate', linewidth = 1)\n",
    "    plt.plot(yhat_df[target_var])\n",
    "    plt.title(target_var)\n",
    "    rmse = evaluate(target_var)\n",
    "    print(target_var, '-- RMSE: {:.0f}'.format(rmse))\n",
    "    plt.show()"
   ]
  },
  {
   "cell_type": "code",
   "execution_count": 26,
   "id": "af9cf469",
   "metadata": {},
   "outputs": [],
   "source": [
    "def append_eval_df(model_type, target_var):\n",
    "    rmse = evaluate(target_var)\n",
    "    d = {'model_type': [model_type], 'target_var': [target_var], 'rmse': [rmse]}\n",
    "    d = pd.DataFrame(d)\n",
    "    return eval_df.append(d, ignore_index = True)"
   ]
  },
  {
   "cell_type": "code",
   "execution_count": 35,
   "id": "8e895ce5",
   "metadata": {},
   "outputs": [],
   "source": [
    "def make_predictions(dollars=None, items=None):\n",
    "    yhat_df = pd.DataFrame({'sales_total': [dollars],\n",
    "                           'sale_amount': [items]},\n",
    "                          index=validate.index)\n",
    "    return yhat_df"
   ]
  },
  {
   "cell_type": "code",
   "execution_count": 10,
   "id": "79291786",
   "metadata": {},
   "outputs": [],
   "source": [
    "eval_df = pd.DataFrame(columns=['model_type', 'target_var', 'rmse'])"
   ]
  },
  {
   "cell_type": "code",
   "execution_count": 12,
   "id": "c2d8b73d",
   "metadata": {},
   "outputs": [
    {
     "data": {
      "text/html": [
       "<div>\n",
       "<style scoped>\n",
       "    .dataframe tbody tr th:only-of-type {\n",
       "        vertical-align: middle;\n",
       "    }\n",
       "\n",
       "    .dataframe tbody tr th {\n",
       "        vertical-align: top;\n",
       "    }\n",
       "\n",
       "    .dataframe thead th {\n",
       "        text-align: right;\n",
       "    }\n",
       "</style>\n",
       "<table border=\"1\" class=\"dataframe\">\n",
       "  <thead>\n",
       "    <tr style=\"text-align: right;\">\n",
       "      <th></th>\n",
       "      <th>model_type</th>\n",
       "      <th>target_var</th>\n",
       "      <th>rmse</th>\n",
       "    </tr>\n",
       "  </thead>\n",
       "  <tbody>\n",
       "  </tbody>\n",
       "</table>\n",
       "</div>"
      ],
      "text/plain": [
       "Empty DataFrame\n",
       "Columns: [model_type, target_var, rmse]\n",
       "Index: []"
      ]
     },
     "execution_count": 12,
     "metadata": {},
     "output_type": "execute_result"
    }
   ],
   "source": [
    "eval_df"
   ]
  },
  {
   "cell_type": "markdown",
   "id": "eafe980b",
   "metadata": {},
   "source": [
    "#### Last Observed Value"
   ]
  },
  {
   "cell_type": "code",
   "execution_count": 14,
   "id": "c0fdebbb",
   "metadata": {},
   "outputs": [],
   "source": [
    "dollars = train['sales_total'][-1:][0]"
   ]
  },
  {
   "cell_type": "code",
   "execution_count": 15,
   "id": "1f0519cb",
   "metadata": {},
   "outputs": [],
   "source": [
    "items = train['sale_amount'][-1:][0]"
   ]
  },
  {
   "cell_type": "code",
   "execution_count": 16,
   "id": "3cd54e58",
   "metadata": {},
   "outputs": [
    {
     "data": {
      "text/plain": [
       "(3268736.22, 607572.0)"
      ]
     },
     "execution_count": 16,
     "metadata": {},
     "output_type": "execute_result"
    }
   ],
   "source": [
    "dollars, items"
   ]
  },
  {
   "cell_type": "code",
   "execution_count": 20,
   "id": "b12a6fc6",
   "metadata": {},
   "outputs": [
    {
     "data": {
      "text/html": [
       "<div>\n",
       "<style scoped>\n",
       "    .dataframe tbody tr th:only-of-type {\n",
       "        vertical-align: middle;\n",
       "    }\n",
       "\n",
       "    .dataframe tbody tr th {\n",
       "        vertical-align: top;\n",
       "    }\n",
       "\n",
       "    .dataframe thead th {\n",
       "        text-align: right;\n",
       "    }\n",
       "</style>\n",
       "<table border=\"1\" class=\"dataframe\">\n",
       "  <thead>\n",
       "    <tr style=\"text-align: right;\">\n",
       "      <th></th>\n",
       "      <th>sales_total</th>\n",
       "      <th>sale_amount</th>\n",
       "    </tr>\n",
       "    <tr>\n",
       "      <th>sale_date</th>\n",
       "      <th></th>\n",
       "      <th></th>\n",
       "    </tr>\n",
       "  </thead>\n",
       "  <tbody>\n",
       "    <tr>\n",
       "      <th>2016-01-31</th>\n",
       "      <td>3268736.22</td>\n",
       "      <td>607572.0</td>\n",
       "    </tr>\n",
       "    <tr>\n",
       "      <th>2016-02-29</th>\n",
       "      <td>3268736.22</td>\n",
       "      <td>607572.0</td>\n",
       "    </tr>\n",
       "    <tr>\n",
       "      <th>2016-03-31</th>\n",
       "      <td>3268736.22</td>\n",
       "      <td>607572.0</td>\n",
       "    </tr>\n",
       "    <tr>\n",
       "      <th>2016-04-30</th>\n",
       "      <td>3268736.22</td>\n",
       "      <td>607572.0</td>\n",
       "    </tr>\n",
       "    <tr>\n",
       "      <th>2016-05-31</th>\n",
       "      <td>3268736.22</td>\n",
       "      <td>607572.0</td>\n",
       "    </tr>\n",
       "  </tbody>\n",
       "</table>\n",
       "</div>"
      ],
      "text/plain": [
       "            sales_total  sale_amount\n",
       "sale_date                           \n",
       "2016-01-31   3268736.22     607572.0\n",
       "2016-02-29   3268736.22     607572.0\n",
       "2016-03-31   3268736.22     607572.0\n",
       "2016-04-30   3268736.22     607572.0\n",
       "2016-05-31   3268736.22     607572.0"
      ]
     },
     "execution_count": 20,
     "metadata": {},
     "output_type": "execute_result"
    }
   ],
   "source": [
    "yhat_df = pd.DataFrame(\n",
    "    {'sales_total': [dollars],\n",
    "     'sale_amount': [items]},\n",
    "    index=validate.index)\n",
    "\n",
    "yhat_df.head()"
   ]
  },
  {
   "cell_type": "code",
   "execution_count": 21,
   "id": "baf969d9",
   "metadata": {},
   "outputs": [
    {
     "name": "stdout",
     "output_type": "stream",
     "text": [
      "sales_total -- RMSE: 1620001\n"
     ]
    },
    {
     "data": {
      "image/png": "[encoded data removed]",
      "text/plain": [
       "<Figure size 864x288 with 1 Axes>"
      ]
     },
     "metadata": {
      "needs_background": "light"
     },
     "output_type": "display_data"
    }
   ],
   "source": [
    "plot_and_eval('sales_total')"
   ]
  },
  {
   "cell_type": "code",
   "execution_count": 22,
   "id": "856a2010",
   "metadata": {},
   "outputs": [
    {
     "name": "stdout",
     "output_type": "stream",
     "text": [
      "sale_amount -- RMSE: 301773\n"
     ]
    },
    {
     "data": {
      "image/png": "[encoded data removed]",
      "text/plain": [
       "<Figure size 864x288 with 1 Axes>"
      ]
     },
     "metadata": {
      "needs_background": "light"
     },
     "output_type": "display_data"
    }
   ],
   "source": [
    "plot_and_eval('sale_amount')"
   ]
  },
  {
   "cell_type": "code",
   "execution_count": 23,
   "id": "3811c1f8",
   "metadata": {},
   "outputs": [],
   "source": [
    "eval_df = append_eval_df(model_type = 'last_observed_value', target_var = 'sales_total')\n",
    "eval_df = append_eval_df(model_type = 'last_observed_value', target_var = 'sale_amount')"
   ]
  },
  {
   "cell_type": "code",
   "execution_count": 24,
   "id": "89f0a7f5",
   "metadata": {},
   "outputs": [
    {
     "data": {
      "text/html": [
       "<div>\n",
       "<style scoped>\n",
       "    .dataframe tbody tr th:only-of-type {\n",
       "        vertical-align: middle;\n",
       "    }\n",
       "\n",
       "    .dataframe tbody tr th {\n",
       "        vertical-align: top;\n",
       "    }\n",
       "\n",
       "    .dataframe thead th {\n",
       "        text-align: right;\n",
       "    }\n",
       "</style>\n",
       "<table border=\"1\" class=\"dataframe\">\n",
       "  <thead>\n",
       "    <tr style=\"text-align: right;\">\n",
       "      <th></th>\n",
       "      <th>model_type</th>\n",
       "      <th>target_var</th>\n",
       "      <th>rmse</th>\n",
       "    </tr>\n",
       "  </thead>\n",
       "  <tbody>\n",
       "    <tr>\n",
       "      <th>0</th>\n",
       "      <td>last_observed_value</td>\n",
       "      <td>sales_total</td>\n",
       "      <td>1620001.0</td>\n",
       "    </tr>\n",
       "    <tr>\n",
       "      <th>1</th>\n",
       "      <td>last_observed_value</td>\n",
       "      <td>sale_amount</td>\n",
       "      <td>301773.0</td>\n",
       "    </tr>\n",
       "  </tbody>\n",
       "</table>\n",
       "</div>"
      ],
      "text/plain": [
       "            model_type   target_var       rmse\n",
       "0  last_observed_value  sales_total  1620001.0\n",
       "1  last_observed_value  sale_amount   301773.0"
      ]
     },
     "execution_count": 24,
     "metadata": {},
     "output_type": "execute_result"
    }
   ],
   "source": [
    "eval_df"
   ]
  },
  {
   "cell_type": "markdown",
   "id": "5241958b",
   "metadata": {},
   "source": [
    "---"
   ]
  },
  {
   "cell_type": "markdown",
   "id": "57381f58",
   "metadata": {},
   "source": [
    "#### Simple Average"
   ]
  },
  {
   "cell_type": "code",
   "execution_count": 25,
   "id": "e0d05b0c",
   "metadata": {},
   "outputs": [
    {
     "data": {
      "text/plain": [
       "(3974693.29, 739267.0)"
      ]
     },
     "execution_count": 25,
     "metadata": {},
     "output_type": "execute_result"
    }
   ],
   "source": [
    "dollars = round(train['sales_total'].mean(), 2)\n",
    "items = round(train['sale_amount'].mean(), 2)\n",
    "dollars, items"
   ]
  },
  {
   "cell_type": "code",
   "execution_count": 28,
   "id": "84cd53f8",
   "metadata": {},
   "outputs": [
    {
     "data": {
      "text/html": [
       "<div>\n",
       "<style scoped>\n",
       "    .dataframe tbody tr th:only-of-type {\n",
       "        vertical-align: middle;\n",
       "    }\n",
       "\n",
       "    .dataframe tbody tr th {\n",
       "        vertical-align: top;\n",
       "    }\n",
       "\n",
       "    .dataframe thead th {\n",
       "        text-align: right;\n",
       "    }\n",
       "</style>\n",
       "<table border=\"1\" class=\"dataframe\">\n",
       "  <thead>\n",
       "    <tr style=\"text-align: right;\">\n",
       "      <th></th>\n",
       "      <th>sales_total</th>\n",
       "      <th>sale_amount</th>\n",
       "    </tr>\n",
       "    <tr>\n",
       "      <th>sale_date</th>\n",
       "      <th></th>\n",
       "      <th></th>\n",
       "    </tr>\n",
       "  </thead>\n",
       "  <tbody>\n",
       "    <tr>\n",
       "      <th>2016-01-31</th>\n",
       "      <td>3974693.29</td>\n",
       "      <td>739267.0</td>\n",
       "    </tr>\n",
       "    <tr>\n",
       "      <th>2016-02-29</th>\n",
       "      <td>3974693.29</td>\n",
       "      <td>739267.0</td>\n",
       "    </tr>\n",
       "    <tr>\n",
       "      <th>2016-03-31</th>\n",
       "      <td>3974693.29</td>\n",
       "      <td>739267.0</td>\n",
       "    </tr>\n",
       "    <tr>\n",
       "      <th>2016-04-30</th>\n",
       "      <td>3974693.29</td>\n",
       "      <td>739267.0</td>\n",
       "    </tr>\n",
       "    <tr>\n",
       "      <th>2016-05-31</th>\n",
       "      <td>3974693.29</td>\n",
       "      <td>739267.0</td>\n",
       "    </tr>\n",
       "  </tbody>\n",
       "</table>\n",
       "</div>"
      ],
      "text/plain": [
       "            sales_total  sale_amount\n",
       "sale_date                           \n",
       "2016-01-31   3974693.29     739267.0\n",
       "2016-02-29   3974693.29     739267.0\n",
       "2016-03-31   3974693.29     739267.0\n",
       "2016-04-30   3974693.29     739267.0\n",
       "2016-05-31   3974693.29     739267.0"
      ]
     },
     "execution_count": 28,
     "metadata": {},
     "output_type": "execute_result"
    }
   ],
   "source": [
    "yhat_df = pd.DataFrame({'sales_total': [dollars],\n",
    "                           'sale_amount': [items]},\n",
    "                          index=validate.index)\n",
    "yhat_df.head()"
   ]
  },
  {
   "cell_type": "code",
   "execution_count": 29,
   "id": "31fd3c19",
   "metadata": {},
   "outputs": [
    {
     "name": "stdout",
     "output_type": "stream",
     "text": [
      "sales_total -- RMSE: 1089633\n"
     ]
    },
    {
     "data": {
      "image/png": "[encoded data removed]",
      "text/plain": [
       "<Figure size 864x288 with 1 Axes>"
      ]
     },
     "metadata": {
      "needs_background": "light"
     },
     "output_type": "display_data"
    }
   ],
   "source": [
    "plot_and_eval('sales_total')"
   ]
  },
  {
   "cell_type": "code",
   "execution_count": 30,
   "id": "43118e83",
   "metadata": {},
   "outputs": [
    {
     "name": "stdout",
     "output_type": "stream",
     "text": [
      "sale_amount -- RMSE: 202750\n"
     ]
    },
    {
     "data": {
      "image/png": "[encoded data removed]",
      "text/plain": [
       "<Figure size 864x288 with 1 Axes>"
      ]
     },
     "metadata": {
      "needs_background": "light"
     },
     "output_type": "display_data"
    }
   ],
   "source": [
    "plot_and_eval('sale_amount')"
   ]
  },
  {
   "cell_type": "code",
   "execution_count": 31,
   "id": "11e40ff1",
   "metadata": {},
   "outputs": [],
   "source": [
    "eval_df = append_eval_df(model_type = 'simple_average', target_var = 'sales_total')\n",
    "eval_df = append_eval_df(model_type = 'simple_average', target_var = 'sale_amount')"
   ]
  },
  {
   "cell_type": "code",
   "execution_count": 32,
   "id": "03ba3925",
   "metadata": {},
   "outputs": [
    {
     "data": {
      "text/html": [
       "<div>\n",
       "<style scoped>\n",
       "    .dataframe tbody tr th:only-of-type {\n",
       "        vertical-align: middle;\n",
       "    }\n",
       "\n",
       "    .dataframe tbody tr th {\n",
       "        vertical-align: top;\n",
       "    }\n",
       "\n",
       "    .dataframe thead th {\n",
       "        text-align: right;\n",
       "    }\n",
       "</style>\n",
       "<table border=\"1\" class=\"dataframe\">\n",
       "  <thead>\n",
       "    <tr style=\"text-align: right;\">\n",
       "      <th></th>\n",
       "      <th>model_type</th>\n",
       "      <th>target_var</th>\n",
       "      <th>rmse</th>\n",
       "    </tr>\n",
       "  </thead>\n",
       "  <tbody>\n",
       "    <tr>\n",
       "      <th>0</th>\n",
       "      <td>last_observed_value</td>\n",
       "      <td>sales_total</td>\n",
       "      <td>1620001.0</td>\n",
       "    </tr>\n",
       "    <tr>\n",
       "      <th>1</th>\n",
       "      <td>last_observed_value</td>\n",
       "      <td>sale_amount</td>\n",
       "      <td>301773.0</td>\n",
       "    </tr>\n",
       "    <tr>\n",
       "      <th>2</th>\n",
       "      <td>simple_average</td>\n",
       "      <td>sales_total</td>\n",
       "      <td>1089633.0</td>\n",
       "    </tr>\n",
       "    <tr>\n",
       "      <th>3</th>\n",
       "      <td>simple_average</td>\n",
       "      <td>sale_amount</td>\n",
       "      <td>202750.0</td>\n",
       "    </tr>\n",
       "  </tbody>\n",
       "</table>\n",
       "</div>"
      ],
      "text/plain": [
       "            model_type   target_var       rmse\n",
       "0  last_observed_value  sales_total  1620001.0\n",
       "1  last_observed_value  sale_amount   301773.0\n",
       "2       simple_average  sales_total  1089633.0\n",
       "3       simple_average  sale_amount   202750.0"
      ]
     },
     "execution_count": 32,
     "metadata": {},
     "output_type": "execute_result"
    }
   ],
   "source": [
    "eval_df"
   ]
  },
  {
   "cell_type": "markdown",
   "id": "b4179d14",
   "metadata": {},
   "source": [
    "---"
   ]
  },
  {
   "cell_type": "markdown",
   "id": "bbcb2ce3",
   "metadata": {},
   "source": [
    "#### 30 Day Moving Average"
   ]
  },
  {
   "cell_type": "code",
   "execution_count": 34,
   "id": "104024aa",
   "metadata": {},
   "outputs": [
    {
     "name": "stdout",
     "output_type": "stream",
     "text": [
      "4093463.67 761359.87\n"
     ]
    }
   ],
   "source": [
    "period = 30\n",
    "dollars = round(train['sales_total'].rolling(period).mean()[-1], 2)\n",
    "items = round(train['sale_amount'].rolling(period).mean()[-1], 2)\n",
    "print(dollars, items)"
   ]
  },
  {
   "cell_type": "code",
   "execution_count": 36,
   "id": "79ad65d8",
   "metadata": {},
   "outputs": [
    {
     "data": {
      "text/html": [
       "<div>\n",
       "<style scoped>\n",
       "    .dataframe tbody tr th:only-of-type {\n",
       "        vertical-align: middle;\n",
       "    }\n",
       "\n",
       "    .dataframe tbody tr th {\n",
       "        vertical-align: top;\n",
       "    }\n",
       "\n",
       "    .dataframe thead th {\n",
       "        text-align: right;\n",
       "    }\n",
       "</style>\n",
       "<table border=\"1\" class=\"dataframe\">\n",
       "  <thead>\n",
       "    <tr style=\"text-align: right;\">\n",
       "      <th></th>\n",
       "      <th>sales_total</th>\n",
       "      <th>sale_amount</th>\n",
       "    </tr>\n",
       "    <tr>\n",
       "      <th>sale_date</th>\n",
       "      <th></th>\n",
       "      <th></th>\n",
       "    </tr>\n",
       "  </thead>\n",
       "  <tbody>\n",
       "    <tr>\n",
       "      <th>2016-01-31</th>\n",
       "      <td>4093463.67</td>\n",
       "      <td>761359.87</td>\n",
       "    </tr>\n",
       "    <tr>\n",
       "      <th>2016-02-29</th>\n",
       "      <td>4093463.67</td>\n",
       "      <td>761359.87</td>\n",
       "    </tr>\n",
       "    <tr>\n",
       "      <th>2016-03-31</th>\n",
       "      <td>4093463.67</td>\n",
       "      <td>761359.87</td>\n",
       "    </tr>\n",
       "    <tr>\n",
       "      <th>2016-04-30</th>\n",
       "      <td>4093463.67</td>\n",
       "      <td>761359.87</td>\n",
       "    </tr>\n",
       "    <tr>\n",
       "      <th>2016-05-31</th>\n",
       "      <td>4093463.67</td>\n",
       "      <td>761359.87</td>\n",
       "    </tr>\n",
       "  </tbody>\n",
       "</table>\n",
       "</div>"
      ],
      "text/plain": [
       "            sales_total  sale_amount\n",
       "sale_date                           \n",
       "2016-01-31   4093463.67    761359.87\n",
       "2016-02-29   4093463.67    761359.87\n",
       "2016-03-31   4093463.67    761359.87\n",
       "2016-04-30   4093463.67    761359.87\n",
       "2016-05-31   4093463.67    761359.87"
      ]
     },
     "execution_count": 36,
     "metadata": {},
     "output_type": "execute_result"
    }
   ],
   "source": [
    "yhat_df = make_predictions(dollars, items)\n",
    "yhat_df.head()"
   ]
  },
  {
   "cell_type": "code",
   "execution_count": 37,
   "id": "7c78fa98",
   "metadata": {},
   "outputs": [
    {
     "name": "stdout",
     "output_type": "stream",
     "text": [
      "sales_total -- RMSE: 1021506\n"
     ]
    },
    {
     "data": {
      "image/png": "[encoded data removed]",
      "text/plain": [
       "<Figure size 864x288 with 1 Axes>"
      ]
     },
     "metadata": {
      "needs_background": "light"
     },
     "output_type": "display_data"
    }
   ],
   "source": [
    "plot_and_eval('sales_total')"
   ]
  },
  {
   "cell_type": "code",
   "execution_count": 38,
   "id": "17b0c915",
   "metadata": {},
   "outputs": [
    {
     "name": "stdout",
     "output_type": "stream",
     "text": [
      "sale_amount -- RMSE: 190064\n"
     ]
    },
    {
     "data": {
      "image/png": "[encoded data removed]",
      "text/plain": [
       "<Figure size 864x288 with 1 Axes>"
      ]
     },
     "metadata": {
      "needs_background": "light"
     },
     "output_type": "display_data"
    }
   ],
   "source": [
    "plot_and_eval('sale_amount')"
   ]
  },
  {
   "cell_type": "code",
   "execution_count": 39,
   "id": "5be38579",
   "metadata": {},
   "outputs": [
    {
     "data": {
      "text/html": [
       "<div>\n",
       "<style scoped>\n",
       "    .dataframe tbody tr th:only-of-type {\n",
       "        vertical-align: middle;\n",
       "    }\n",
       "\n",
       "    .dataframe tbody tr th {\n",
       "        vertical-align: top;\n",
       "    }\n",
       "\n",
       "    .dataframe thead th {\n",
       "        text-align: right;\n",
       "    }\n",
       "</style>\n",
       "<table border=\"1\" class=\"dataframe\">\n",
       "  <thead>\n",
       "    <tr style=\"text-align: right;\">\n",
       "      <th></th>\n",
       "      <th>model_type</th>\n",
       "      <th>target_var</th>\n",
       "      <th>rmse</th>\n",
       "    </tr>\n",
       "  </thead>\n",
       "  <tbody>\n",
       "    <tr>\n",
       "      <th>0</th>\n",
       "      <td>last_observed_value</td>\n",
       "      <td>sales_total</td>\n",
       "      <td>1620001.0</td>\n",
       "    </tr>\n",
       "    <tr>\n",
       "      <th>1</th>\n",
       "      <td>last_observed_value</td>\n",
       "      <td>sale_amount</td>\n",
       "      <td>301773.0</td>\n",
       "    </tr>\n",
       "    <tr>\n",
       "      <th>2</th>\n",
       "      <td>simple_average</td>\n",
       "      <td>sales_total</td>\n",
       "      <td>1089633.0</td>\n",
       "    </tr>\n",
       "    <tr>\n",
       "      <th>3</th>\n",
       "      <td>simple_average</td>\n",
       "      <td>sale_amount</td>\n",
       "      <td>202750.0</td>\n",
       "    </tr>\n",
       "    <tr>\n",
       "      <th>4</th>\n",
       "      <td>30 Day Rolling Average</td>\n",
       "      <td>sales_total</td>\n",
       "      <td>1021506.0</td>\n",
       "    </tr>\n",
       "    <tr>\n",
       "      <th>5</th>\n",
       "      <td>30 Day Rolling Average</td>\n",
       "      <td>sale_amount</td>\n",
       "      <td>190064.0</td>\n",
       "    </tr>\n",
       "  </tbody>\n",
       "</table>\n",
       "</div>"
      ],
      "text/plain": [
       "               model_type   target_var       rmse\n",
       "0     last_observed_value  sales_total  1620001.0\n",
       "1     last_observed_value  sale_amount   301773.0\n",
       "2          simple_average  sales_total  1089633.0\n",
       "3          simple_average  sale_amount   202750.0\n",
       "4  30 Day Rolling Average  sales_total  1021506.0\n",
       "5  30 Day Rolling Average  sale_amount   190064.0"
      ]
     },
     "execution_count": 39,
     "metadata": {},
     "output_type": "execute_result"
    }
   ],
   "source": [
    "eval_df = append_eval_df(model_type = '30 Day Rolling Average', target_var = 'sales_total')\n",
    "eval_df = append_eval_df(model_type = '30 Day Rolling Average', target_var = 'sale_amount')\n",
    "eval_df"
   ]
  },
  {
   "cell_type": "markdown",
   "id": "01cc025b",
   "metadata": {},
   "source": [
    "---"
   ]
  },
  {
   "cell_type": "markdown",
   "id": "08df0f92",
   "metadata": {},
   "source": [
    "#### Holts Linear Trend"
   ]
  },
  {
   "cell_type": "code",
   "execution_count": 43,
   "id": "e02bf53e",
   "metadata": {},
   "outputs": [
    {
     "name": "stderr",
     "output_type": "stream",
     "text": [
      "/var/folders/n7/fjb2f8gd5jg17xlxz1c85vhc0000gn/T/ipykernel_49904/76415413.py:2: FutureWarning: the 'damped'' keyword is deprecated, use 'damped_trend' instead\n",
      "  model = Holt(train[col], exponential=False, damped=True)\n",
      "/opt/anaconda3/lib/python3.9/site-packages/statsmodels/tsa/holtwinters/model.py:427: FutureWarning: After 0.13 initialization must be handled at model creation\n",
      "  warnings.warn(\n",
      "/opt/anaconda3/lib/python3.9/site-packages/statsmodels/tsa/holtwinters/model.py:920: ConvergenceWarning: Optimization failed to converge. Check mle_retvals.\n",
      "  warnings.warn(\n",
      "/opt/anaconda3/lib/python3.9/site-packages/statsmodels/tsa/base/tsa_model.py:132: FutureWarning: The 'freq' argument in Timestamp is deprecated and will be removed in a future version.\n",
      "  date_key = Timestamp(key, freq=base_index.freq)\n",
      "/var/folders/n7/fjb2f8gd5jg17xlxz1c85vhc0000gn/T/ipykernel_49904/76415413.py:9: FutureWarning: the 'damped'' keyword is deprecated, use 'damped_trend' instead\n",
      "  model = Holt(train[col], exponential=False, damped=True)\n",
      "/opt/anaconda3/lib/python3.9/site-packages/statsmodels/tsa/holtwinters/model.py:920: ConvergenceWarning: Optimization failed to converge. Check mle_retvals.\n",
      "  warnings.warn(\n"
     ]
    }
   ],
   "source": [
    "#Make predictions with sales_total and add to yhat_df\n",
    "col = 'sales_total'\n",
    "model = Holt(train[col], exponential=False, damped=True)\n",
    "model = model.fit(optimized=True)\n",
    "yhat_items = model.predict(start = validate.index[0],\n",
    "                           end = validate.index[-1])\n",
    "yhat_df[col] = round(yhat_items, 2)\n",
    "\n",
    "#make predictions with sale_amount and add to yhat_df\n",
    "col = 'sale_amount'\n",
    "model = Holt(train[col], exponential=False, damped=True)\n",
    "model = model.fit(optimized=True)\n",
    "yhat_items = model.predict(start = validate.index[0],\n",
    "                           end = validate.index[-1])\n",
    "yhat_df[col] = round(yhat_items, 2)"
   ]
  },
  {
   "cell_type": "code",
   "execution_count": 44,
   "id": "6e7fa261",
   "metadata": {},
   "outputs": [
    {
     "data": {
      "text/html": [
       "<div>\n",
       "<style scoped>\n",
       "    .dataframe tbody tr th:only-of-type {\n",
       "        vertical-align: middle;\n",
       "    }\n",
       "\n",
       "    .dataframe tbody tr th {\n",
       "        vertical-align: top;\n",
       "    }\n",
       "\n",
       "    .dataframe thead th {\n",
       "        text-align: right;\n",
       "    }\n",
       "</style>\n",
       "<table border=\"1\" class=\"dataframe\">\n",
       "  <thead>\n",
       "    <tr style=\"text-align: right;\">\n",
       "      <th></th>\n",
       "      <th>sales_total</th>\n",
       "      <th>sale_amount</th>\n",
       "    </tr>\n",
       "    <tr>\n",
       "      <th>sale_date</th>\n",
       "      <th></th>\n",
       "      <th></th>\n",
       "    </tr>\n",
       "  </thead>\n",
       "  <tbody>\n",
       "    <tr>\n",
       "      <th>2016-01-31</th>\n",
       "      <td>3290132.63</td>\n",
       "      <td>611794.26</td>\n",
       "    </tr>\n",
       "    <tr>\n",
       "      <th>2016-02-29</th>\n",
       "      <td>3305399.92</td>\n",
       "      <td>614869.97</td>\n",
       "    </tr>\n",
       "    <tr>\n",
       "      <th>2016-03-31</th>\n",
       "      <td>3320514.55</td>\n",
       "      <td>617914.91</td>\n",
       "    </tr>\n",
       "    <tr>\n",
       "      <th>2016-04-30</th>\n",
       "      <td>3335478.03</td>\n",
       "      <td>620929.41</td>\n",
       "    </tr>\n",
       "    <tr>\n",
       "      <th>2016-05-31</th>\n",
       "      <td>3350291.87</td>\n",
       "      <td>623913.76</td>\n",
       "    </tr>\n",
       "    <tr>\n",
       "      <th>2016-06-30</th>\n",
       "      <td>3364957.57</td>\n",
       "      <td>626868.27</td>\n",
       "    </tr>\n",
       "    <tr>\n",
       "      <th>2016-07-31</th>\n",
       "      <td>3379476.62</td>\n",
       "      <td>629793.23</td>\n",
       "    </tr>\n",
       "    <tr>\n",
       "      <th>2016-08-31</th>\n",
       "      <td>3393850.47</td>\n",
       "      <td>632688.95</td>\n",
       "    </tr>\n",
       "    <tr>\n",
       "      <th>2016-09-30</th>\n",
       "      <td>3408080.59</td>\n",
       "      <td>635555.71</td>\n",
       "    </tr>\n",
       "    <tr>\n",
       "      <th>2016-10-31</th>\n",
       "      <td>3422168.41</td>\n",
       "      <td>638393.79</td>\n",
       "    </tr>\n",
       "    <tr>\n",
       "      <th>2016-11-30</th>\n",
       "      <td>3436115.35</td>\n",
       "      <td>641203.50</td>\n",
       "    </tr>\n",
       "    <tr>\n",
       "      <th>2016-12-31</th>\n",
       "      <td>3449922.82</td>\n",
       "      <td>643985.11</td>\n",
       "    </tr>\n",
       "  </tbody>\n",
       "</table>\n",
       "</div>"
      ],
      "text/plain": [
       "            sales_total  sale_amount\n",
       "sale_date                           \n",
       "2016-01-31   3290132.63    611794.26\n",
       "2016-02-29   3305399.92    614869.97\n",
       "2016-03-31   3320514.55    617914.91\n",
       "2016-04-30   3335478.03    620929.41\n",
       "2016-05-31   3350291.87    623913.76\n",
       "2016-06-30   3364957.57    626868.27\n",
       "2016-07-31   3379476.62    629793.23\n",
       "2016-08-31   3393850.47    632688.95\n",
       "2016-09-30   3408080.59    635555.71\n",
       "2016-10-31   3422168.41    638393.79\n",
       "2016-11-30   3436115.35    641203.50\n",
       "2016-12-31   3449922.82    643985.11"
      ]
     },
     "execution_count": 44,
     "metadata": {},
     "output_type": "execute_result"
    }
   ],
   "source": [
    "yhat_df"
   ]
  },
  {
   "cell_type": "code",
   "execution_count": 45,
   "id": "1bf0aaca",
   "metadata": {},
   "outputs": [
    {
     "name": "stdout",
     "output_type": "stream",
     "text": [
      "sales_total -- RMSE: 1526644\n"
     ]
    },
    {
     "data": {
      "image/png": "[encoded data removed]",
      "text/plain": [
       "<Figure size 864x288 with 1 Axes>"
      ]
     },
     "metadata": {
      "needs_background": "light"
     },
     "output_type": "display_data"
    }
   ],
   "source": [
    "plot_and_eval('sales_total')"
   ]
  },
  {
   "cell_type": "code",
   "execution_count": 46,
   "id": "05a2ef53",
   "metadata": {},
   "outputs": [
    {
     "name": "stdout",
     "output_type": "stream",
     "text": [
      "sale_amount -- RMSE: 283048\n"
     ]
    },
    {
     "data": {
      "image/png": "[encoded data removed]",
      "text/plain": [
       "<Figure size 864x288 with 1 Axes>"
      ]
     },
     "metadata": {
      "needs_background": "light"
     },
     "output_type": "display_data"
    }
   ],
   "source": [
    "plot_and_eval('sale_amount')"
   ]
  },
  {
   "cell_type": "code",
   "execution_count": 47,
   "id": "69c4f07d",
   "metadata": {},
   "outputs": [
    {
     "data": {
      "text/html": [
       "<div>\n",
       "<style scoped>\n",
       "    .dataframe tbody tr th:only-of-type {\n",
       "        vertical-align: middle;\n",
       "    }\n",
       "\n",
       "    .dataframe tbody tr th {\n",
       "        vertical-align: top;\n",
       "    }\n",
       "\n",
       "    .dataframe thead th {\n",
       "        text-align: right;\n",
       "    }\n",
       "</style>\n",
       "<table border=\"1\" class=\"dataframe\">\n",
       "  <thead>\n",
       "    <tr style=\"text-align: right;\">\n",
       "      <th></th>\n",
       "      <th>model_type</th>\n",
       "      <th>target_var</th>\n",
       "      <th>rmse</th>\n",
       "    </tr>\n",
       "  </thead>\n",
       "  <tbody>\n",
       "    <tr>\n",
       "      <th>0</th>\n",
       "      <td>last_observed_value</td>\n",
       "      <td>sales_total</td>\n",
       "      <td>1620001.0</td>\n",
       "    </tr>\n",
       "    <tr>\n",
       "      <th>1</th>\n",
       "      <td>last_observed_value</td>\n",
       "      <td>sale_amount</td>\n",
       "      <td>301773.0</td>\n",
       "    </tr>\n",
       "    <tr>\n",
       "      <th>2</th>\n",
       "      <td>simple_average</td>\n",
       "      <td>sales_total</td>\n",
       "      <td>1089633.0</td>\n",
       "    </tr>\n",
       "    <tr>\n",
       "      <th>3</th>\n",
       "      <td>simple_average</td>\n",
       "      <td>sale_amount</td>\n",
       "      <td>202750.0</td>\n",
       "    </tr>\n",
       "    <tr>\n",
       "      <th>4</th>\n",
       "      <td>30 Day Rolling Average</td>\n",
       "      <td>sales_total</td>\n",
       "      <td>1021506.0</td>\n",
       "    </tr>\n",
       "    <tr>\n",
       "      <th>5</th>\n",
       "      <td>30 Day Rolling Average</td>\n",
       "      <td>sale_amount</td>\n",
       "      <td>190064.0</td>\n",
       "    </tr>\n",
       "    <tr>\n",
       "      <th>6</th>\n",
       "      <td>Holts linear trend</td>\n",
       "      <td>sales_total</td>\n",
       "      <td>1526644.0</td>\n",
       "    </tr>\n",
       "    <tr>\n",
       "      <th>7</th>\n",
       "      <td>Holts linear trend</td>\n",
       "      <td>sale_amount</td>\n",
       "      <td>283048.0</td>\n",
       "    </tr>\n",
       "  </tbody>\n",
       "</table>\n",
       "</div>"
      ],
      "text/plain": [
       "               model_type   target_var       rmse\n",
       "0     last_observed_value  sales_total  1620001.0\n",
       "1     last_observed_value  sale_amount   301773.0\n",
       "2          simple_average  sales_total  1089633.0\n",
       "3          simple_average  sale_amount   202750.0\n",
       "4  30 Day Rolling Average  sales_total  1021506.0\n",
       "5  30 Day Rolling Average  sale_amount   190064.0\n",
       "6      Holts linear trend  sales_total  1526644.0\n",
       "7      Holts linear trend  sale_amount   283048.0"
      ]
     },
     "execution_count": 47,
     "metadata": {},
     "output_type": "execute_result"
    }
   ],
   "source": [
    "eval_df = append_eval_df(model_type = 'Holts linear trend', target_var = 'sales_total')\n",
    "eval_df = append_eval_df(model_type = 'Holts linear trend', target_var = 'sale_amount')\n",
    "eval_df"
   ]
  },
  {
   "cell_type": "markdown",
   "id": "d361f961",
   "metadata": {},
   "source": [
    "---"
   ]
  },
  {
   "cell_type": "markdown",
   "id": "a0a52121",
   "metadata": {},
   "source": [
    "#### Predict based on a previous cycle"
   ]
  },
  {
   "cell_type": "code",
   "execution_count": 54,
   "id": "7f098a2e",
   "metadata": {},
   "outputs": [
    {
     "data": {
      "text/html": [
       "<div>\n",
       "<style scoped>\n",
       "    .dataframe tbody tr th:only-of-type {\n",
       "        vertical-align: middle;\n",
       "    }\n",
       "\n",
       "    .dataframe tbody tr th {\n",
       "        vertical-align: top;\n",
       "    }\n",
       "\n",
       "    .dataframe thead th {\n",
       "        text-align: right;\n",
       "    }\n",
       "</style>\n",
       "<table border=\"1\" class=\"dataframe\">\n",
       "  <thead>\n",
       "    <tr style=\"text-align: right;\">\n",
       "      <th></th>\n",
       "      <th>item_id</th>\n",
       "      <th>sale_amount</th>\n",
       "      <th>sale_id</th>\n",
       "      <th>store_id</th>\n",
       "      <th>item_price</th>\n",
       "      <th>item_upc12</th>\n",
       "      <th>item_upc14</th>\n",
       "      <th>store_zipcode</th>\n",
       "      <th>sales_total</th>\n",
       "    </tr>\n",
       "    <tr>\n",
       "      <th>sale_date</th>\n",
       "      <th></th>\n",
       "      <th></th>\n",
       "      <th></th>\n",
       "      <th></th>\n",
       "      <th></th>\n",
       "      <th></th>\n",
       "      <th></th>\n",
       "      <th></th>\n",
       "      <th></th>\n",
       "    </tr>\n",
       "  </thead>\n",
       "  <tbody>\n",
       "    <tr>\n",
       "      <th>2013-01-31</th>\n",
       "      <td>395250</td>\n",
       "      <td>454904.0</td>\n",
       "      <td>7061846500</td>\n",
       "      <td>85250</td>\n",
       "      <td>79986.2</td>\n",
       "      <td>3696266159611120</td>\n",
       "      <td>3696266159611120</td>\n",
       "      <td>1212484400</td>\n",
       "      <td>2447368.20</td>\n",
       "    </tr>\n",
       "    <tr>\n",
       "      <th>2013-02-28</th>\n",
       "      <td>357000</td>\n",
       "      <td>459417.0</td>\n",
       "      <td>6378855000</td>\n",
       "      <td>77000</td>\n",
       "      <td>72245.6</td>\n",
       "      <td>3338562982874560</td>\n",
       "      <td>3338562982874560</td>\n",
       "      <td>1095147200</td>\n",
       "      <td>2469765.97</td>\n",
       "    </tr>\n",
       "    <tr>\n",
       "      <th>2013-03-31</th>\n",
       "      <td>395250</td>\n",
       "      <td>617382.0</td>\n",
       "      <td>7062761000</td>\n",
       "      <td>85250</td>\n",
       "      <td>79986.2</td>\n",
       "      <td>3696266159611120</td>\n",
       "      <td>3696266159611120</td>\n",
       "      <td>1212484400</td>\n",
       "      <td>3319815.58</td>\n",
       "    </tr>\n",
       "    <tr>\n",
       "      <th>2013-04-30</th>\n",
       "      <td>382500</td>\n",
       "      <td>682274.0</td>\n",
       "      <td>6835387500</td>\n",
       "      <td>82500</td>\n",
       "      <td>77406.0</td>\n",
       "      <td>3577031767365600</td>\n",
       "      <td>3577031767365600</td>\n",
       "      <td>1173372000</td>\n",
       "      <td>3666901.23</td>\n",
       "    </tr>\n",
       "    <tr>\n",
       "      <th>2013-05-31</th>\n",
       "      <td>395250</td>\n",
       "      <td>763242.0</td>\n",
       "      <td>7063706500</td>\n",
       "      <td>85250</td>\n",
       "      <td>79986.2</td>\n",
       "      <td>3696266159611120</td>\n",
       "      <td>3696266159611120</td>\n",
       "      <td>1212484400</td>\n",
       "      <td>4102278.40</td>\n",
       "    </tr>\n",
       "  </tbody>\n",
       "</table>\n",
       "</div>"
      ],
      "text/plain": [
       "            item_id  sale_amount     sale_id  store_id  item_price  \\\n",
       "sale_date                                                            \n",
       "2013-01-31   395250     454904.0  7061846500     85250     79986.2   \n",
       "2013-02-28   357000     459417.0  6378855000     77000     72245.6   \n",
       "2013-03-31   395250     617382.0  7062761000     85250     79986.2   \n",
       "2013-04-30   382500     682274.0  6835387500     82500     77406.0   \n",
       "2013-05-31   395250     763242.0  7063706500     85250     79986.2   \n",
       "\n",
       "                  item_upc12        item_upc14  store_zipcode  sales_total  \n",
       "sale_date                                                                   \n",
       "2013-01-31  3696266159611120  3696266159611120     1212484400   2447368.20  \n",
       "2013-02-28  3338562982874560  3338562982874560     1095147200   2469765.97  \n",
       "2013-03-31  3696266159611120  3696266159611120     1212484400   3319815.58  \n",
       "2013-04-30  3577031767365600  3577031767365600     1173372000   3666901.23  \n",
       "2013-05-31  3696266159611120  3696266159611120     1212484400   4102278.40  "
      ]
     },
     "execution_count": 54,
     "metadata": {},
     "output_type": "execute_result"
    }
   ],
   "source": [
    "train.head()"
   ]
  },
  {
   "cell_type": "code",
   "execution_count": 82,
   "id": "f09feff9",
   "metadata": {},
   "outputs": [],
   "source": [
    "yhat_df = train[['sale_amount', 'sales_total']]"
   ]
  },
  {
   "cell_type": "code",
   "execution_count": 83,
   "id": "91e51bf8",
   "metadata": {},
   "outputs": [
    {
     "data": {
      "text/html": [
       "<div>\n",
       "<style scoped>\n",
       "    .dataframe tbody tr th:only-of-type {\n",
       "        vertical-align: middle;\n",
       "    }\n",
       "\n",
       "    .dataframe tbody tr th {\n",
       "        vertical-align: top;\n",
       "    }\n",
       "\n",
       "    .dataframe thead th {\n",
       "        text-align: right;\n",
       "    }\n",
       "</style>\n",
       "<table border=\"1\" class=\"dataframe\">\n",
       "  <thead>\n",
       "    <tr style=\"text-align: right;\">\n",
       "      <th></th>\n",
       "      <th>sale_amount</th>\n",
       "      <th>sales_total</th>\n",
       "    </tr>\n",
       "    <tr>\n",
       "      <th>sale_date</th>\n",
       "      <th></th>\n",
       "      <th></th>\n",
       "    </tr>\n",
       "  </thead>\n",
       "  <tbody>\n",
       "    <tr>\n",
       "      <th>2013-01-31</th>\n",
       "      <td>454904.0</td>\n",
       "      <td>2447368.20</td>\n",
       "    </tr>\n",
       "    <tr>\n",
       "      <th>2013-02-28</th>\n",
       "      <td>459417.0</td>\n",
       "      <td>2469765.97</td>\n",
       "    </tr>\n",
       "    <tr>\n",
       "      <th>2013-03-31</th>\n",
       "      <td>617382.0</td>\n",
       "      <td>3319815.58</td>\n",
       "    </tr>\n",
       "    <tr>\n",
       "      <th>2013-04-30</th>\n",
       "      <td>682274.0</td>\n",
       "      <td>3666901.23</td>\n",
       "    </tr>\n",
       "    <tr>\n",
       "      <th>2013-05-31</th>\n",
       "      <td>763242.0</td>\n",
       "      <td>4102278.40</td>\n",
       "    </tr>\n",
       "  </tbody>\n",
       "</table>\n",
       "</div>"
      ],
      "text/plain": [
       "            sale_amount  sales_total\n",
       "sale_date                           \n",
       "2013-01-31     454904.0   2447368.20\n",
       "2013-02-28     459417.0   2469765.97\n",
       "2013-03-31     617382.0   3319815.58\n",
       "2013-04-30     682274.0   3666901.23\n",
       "2013-05-31     763242.0   4102278.40"
      ]
     },
     "execution_count": 83,
     "metadata": {},
     "output_type": "execute_result"
    }
   ],
   "source": [
    "yhat_df.head()"
   ]
  },
  {
   "cell_type": "code",
   "execution_count": 84,
   "id": "70542ce3",
   "metadata": {},
   "outputs": [
    {
     "data": {
      "text/html": [
       "<div>\n",
       "<style scoped>\n",
       "    .dataframe tbody tr th:only-of-type {\n",
       "        vertical-align: middle;\n",
       "    }\n",
       "\n",
       "    .dataframe tbody tr th {\n",
       "        vertical-align: top;\n",
       "    }\n",
       "\n",
       "    .dataframe thead th {\n",
       "        text-align: right;\n",
       "    }\n",
       "</style>\n",
       "<table border=\"1\" class=\"dataframe\">\n",
       "  <thead>\n",
       "    <tr style=\"text-align: right;\">\n",
       "      <th></th>\n",
       "      <th>sale_amount</th>\n",
       "      <th>sales_total</th>\n",
       "    </tr>\n",
       "    <tr>\n",
       "      <th>sale_date</th>\n",
       "      <th></th>\n",
       "      <th></th>\n",
       "    </tr>\n",
       "  </thead>\n",
       "  <tbody>\n",
       "    <tr>\n",
       "      <th>2015-08-31</th>\n",
       "      <td>920401.0</td>\n",
       "      <td>4951252.98</td>\n",
       "    </tr>\n",
       "    <tr>\n",
       "      <th>2015-09-30</th>\n",
       "      <td>823332.0</td>\n",
       "      <td>4426326.24</td>\n",
       "    </tr>\n",
       "    <tr>\n",
       "      <th>2015-10-31</th>\n",
       "      <td>797253.0</td>\n",
       "      <td>4286868.40</td>\n",
       "    </tr>\n",
       "    <tr>\n",
       "      <th>2015-11-30</th>\n",
       "      <td>827645.0</td>\n",
       "      <td>4448745.67</td>\n",
       "    </tr>\n",
       "    <tr>\n",
       "      <th>2015-12-31</th>\n",
       "      <td>607572.0</td>\n",
       "      <td>3268736.22</td>\n",
       "    </tr>\n",
       "  </tbody>\n",
       "</table>\n",
       "</div>"
      ],
      "text/plain": [
       "            sale_amount  sales_total\n",
       "sale_date                           \n",
       "2015-08-31     920401.0   4951252.98\n",
       "2015-09-30     823332.0   4426326.24\n",
       "2015-10-31     797253.0   4286868.40\n",
       "2015-11-30     827645.0   4448745.67\n",
       "2015-12-31     607572.0   3268736.22"
      ]
     },
     "execution_count": 84,
     "metadata": {},
     "output_type": "execute_result"
    }
   ],
   "source": [
    "yhat_df.tail()"
   ]
  },
  {
   "cell_type": "code",
   "execution_count": 85,
   "id": "25873e7e",
   "metadata": {},
   "outputs": [
    {
     "data": {
      "text/html": [
       "<div>\n",
       "<style scoped>\n",
       "    .dataframe tbody tr th:only-of-type {\n",
       "        vertical-align: middle;\n",
       "    }\n",
       "\n",
       "    .dataframe tbody tr th {\n",
       "        vertical-align: top;\n",
       "    }\n",
       "\n",
       "    .dataframe thead th {\n",
       "        text-align: right;\n",
       "    }\n",
       "</style>\n",
       "<table border=\"1\" class=\"dataframe\">\n",
       "  <thead>\n",
       "    <tr style=\"text-align: right;\">\n",
       "      <th></th>\n",
       "      <th>sale_amount</th>\n",
       "      <th>sales_total</th>\n",
       "    </tr>\n",
       "  </thead>\n",
       "  <tbody>\n",
       "    <tr>\n",
       "      <th>count</th>\n",
       "      <td>3.600000e+01</td>\n",
       "      <td>3.600000e+01</td>\n",
       "    </tr>\n",
       "    <tr>\n",
       "      <th>mean</th>\n",
       "      <td>7.392670e+05</td>\n",
       "      <td>3.974693e+06</td>\n",
       "    </tr>\n",
       "    <tr>\n",
       "      <th>std</th>\n",
       "      <td>1.538290e+05</td>\n",
       "      <td>8.268004e+05</td>\n",
       "    </tr>\n",
       "    <tr>\n",
       "      <th>min</th>\n",
       "      <td>4.549040e+05</td>\n",
       "      <td>2.447368e+06</td>\n",
       "    </tr>\n",
       "    <tr>\n",
       "      <th>25%</th>\n",
       "      <td>6.149295e+05</td>\n",
       "      <td>3.307046e+06</td>\n",
       "    </tr>\n",
       "    <tr>\n",
       "      <th>50%</th>\n",
       "      <td>7.650015e+05</td>\n",
       "      <td>4.114060e+06</td>\n",
       "    </tr>\n",
       "    <tr>\n",
       "      <th>75%</th>\n",
       "      <td>8.347142e+05</td>\n",
       "      <td>4.486974e+06</td>\n",
       "    </tr>\n",
       "    <tr>\n",
       "      <th>max</th>\n",
       "      <td>1.037350e+06</td>\n",
       "      <td>5.575319e+06</td>\n",
       "    </tr>\n",
       "  </tbody>\n",
       "</table>\n",
       "</div>"
      ],
      "text/plain": [
       "        sale_amount   sales_total\n",
       "count  3.600000e+01  3.600000e+01\n",
       "mean   7.392670e+05  3.974693e+06\n",
       "std    1.538290e+05  8.268004e+05\n",
       "min    4.549040e+05  2.447368e+06\n",
       "25%    6.149295e+05  3.307046e+06\n",
       "50%    7.650015e+05  4.114060e+06\n",
       "75%    8.347142e+05  4.486974e+06\n",
       "max    1.037350e+06  5.575319e+06"
      ]
     },
     "execution_count": 85,
     "metadata": {},
     "output_type": "execute_result"
    }
   ],
   "source": [
    "yhat_df.describe()"
   ]
  },
  {
   "cell_type": "code",
   "execution_count": 86,
   "id": "85f19d12",
   "metadata": {},
   "outputs": [
    {
     "name": "stderr",
     "output_type": "stream",
     "text": [
      "/var/folders/n7/fjb2f8gd5jg17xlxz1c85vhc0000gn/T/ipykernel_49904/3935294183.py:1: FutureWarning: Indexing a DataFrame with a datetimelike index using a single string to slice the rows, like `frame[string]`, is deprecated and will be removed in a future version. Use `frame.loc[string]` instead.\n",
      "  yhat_df['2015']\n"
     ]
    },
    {
     "data": {
      "text/html": [
       "<div>\n",
       "<style scoped>\n",
       "    .dataframe tbody tr th:only-of-type {\n",
       "        vertical-align: middle;\n",
       "    }\n",
       "\n",
       "    .dataframe tbody tr th {\n",
       "        vertical-align: top;\n",
       "    }\n",
       "\n",
       "    .dataframe thead th {\n",
       "        text-align: right;\n",
       "    }\n",
       "</style>\n",
       "<table border=\"1\" class=\"dataframe\">\n",
       "  <thead>\n",
       "    <tr style=\"text-align: right;\">\n",
       "      <th></th>\n",
       "      <th>sale_amount</th>\n",
       "      <th>sales_total</th>\n",
       "    </tr>\n",
       "    <tr>\n",
       "      <th>sale_date</th>\n",
       "      <th></th>\n",
       "      <th></th>\n",
       "    </tr>\n",
       "  </thead>\n",
       "  <tbody>\n",
       "    <tr>\n",
       "      <th>2015-01-31</th>\n",
       "      <td>552513.0</td>\n",
       "      <td>2971740.70</td>\n",
       "    </tr>\n",
       "    <tr>\n",
       "      <th>2015-02-28</th>\n",
       "      <td>551317.0</td>\n",
       "      <td>2962257.74</td>\n",
       "    </tr>\n",
       "    <tr>\n",
       "      <th>2015-03-31</th>\n",
       "      <td>730951.0</td>\n",
       "      <td>3932960.55</td>\n",
       "    </tr>\n",
       "    <tr>\n",
       "      <th>2015-04-30</th>\n",
       "      <td>824467.0</td>\n",
       "      <td>4427214.12</td>\n",
       "    </tr>\n",
       "    <tr>\n",
       "      <th>2015-05-31</th>\n",
       "      <td>926902.0</td>\n",
       "      <td>4988111.92</td>\n",
       "    </tr>\n",
       "    <tr>\n",
       "      <th>2015-06-30</th>\n",
       "      <td>937184.0</td>\n",
       "      <td>5037761.76</td>\n",
       "    </tr>\n",
       "    <tr>\n",
       "      <th>2015-07-31</th>\n",
       "      <td>1037350.0</td>\n",
       "      <td>5575319.12</td>\n",
       "    </tr>\n",
       "    <tr>\n",
       "      <th>2015-08-31</th>\n",
       "      <td>920401.0</td>\n",
       "      <td>4951252.98</td>\n",
       "    </tr>\n",
       "    <tr>\n",
       "      <th>2015-09-30</th>\n",
       "      <td>823332.0</td>\n",
       "      <td>4426326.24</td>\n",
       "    </tr>\n",
       "    <tr>\n",
       "      <th>2015-10-31</th>\n",
       "      <td>797253.0</td>\n",
       "      <td>4286868.40</td>\n",
       "    </tr>\n",
       "    <tr>\n",
       "      <th>2015-11-30</th>\n",
       "      <td>827645.0</td>\n",
       "      <td>4448745.67</td>\n",
       "    </tr>\n",
       "    <tr>\n",
       "      <th>2015-12-31</th>\n",
       "      <td>607572.0</td>\n",
       "      <td>3268736.22</td>\n",
       "    </tr>\n",
       "  </tbody>\n",
       "</table>\n",
       "</div>"
      ],
      "text/plain": [
       "            sale_amount  sales_total\n",
       "sale_date                           \n",
       "2015-01-31     552513.0   2971740.70\n",
       "2015-02-28     551317.0   2962257.74\n",
       "2015-03-31     730951.0   3932960.55\n",
       "2015-04-30     824467.0   4427214.12\n",
       "2015-05-31     926902.0   4988111.92\n",
       "2015-06-30     937184.0   5037761.76\n",
       "2015-07-31    1037350.0   5575319.12\n",
       "2015-08-31     920401.0   4951252.98\n",
       "2015-09-30     823332.0   4426326.24\n",
       "2015-10-31     797253.0   4286868.40\n",
       "2015-11-30     827645.0   4448745.67\n",
       "2015-12-31     607572.0   3268736.22"
      ]
     },
     "execution_count": 86,
     "metadata": {},
     "output_type": "execute_result"
    }
   ],
   "source": [
    "yhat_df['2015']"
   ]
  },
  {
   "cell_type": "code",
   "execution_count": 87,
   "id": "d27fa567",
   "metadata": {},
   "outputs": [
    {
     "data": {
      "text/plain": [
       "sale_amount     66485.166667\n",
       "sales_total    357433.869167\n",
       "dtype: float64"
      ]
     },
     "execution_count": 87,
     "metadata": {},
     "output_type": "execute_result"
    }
   ],
   "source": [
    "yhat_df.diff(12).mean()"
   ]
  },
  {
   "cell_type": "code",
   "execution_count": 88,
   "id": "1f112e81",
   "metadata": {},
   "outputs": [
    {
     "name": "stderr",
     "output_type": "stream",
     "text": [
      "/var/folders/n7/fjb2f8gd5jg17xlxz1c85vhc0000gn/T/ipykernel_49904/3813133034.py:1: FutureWarning: Indexing a DataFrame with a datetimelike index using a single string to slice the rows, like `frame[string]`, is deprecated and will be removed in a future version. Use `frame.loc[string]` instead.\n",
      "  yhat_df = yhat_df['2015'] + yhat_df.diff(12).mean()\n"
     ]
    }
   ],
   "source": [
    "yhat_df = yhat_df['2015'] + yhat_df.diff(12).mean()"
   ]
  },
  {
   "cell_type": "code",
   "execution_count": 89,
   "id": "7890a79b",
   "metadata": {},
   "outputs": [
    {
     "data": {
      "text/html": [
       "<div>\n",
       "<style scoped>\n",
       "    .dataframe tbody tr th:only-of-type {\n",
       "        vertical-align: middle;\n",
       "    }\n",
       "\n",
       "    .dataframe tbody tr th {\n",
       "        vertical-align: top;\n",
       "    }\n",
       "\n",
       "    .dataframe thead th {\n",
       "        text-align: right;\n",
       "    }\n",
       "</style>\n",
       "<table border=\"1\" class=\"dataframe\">\n",
       "  <thead>\n",
       "    <tr style=\"text-align: right;\">\n",
       "      <th></th>\n",
       "      <th>sale_amount</th>\n",
       "      <th>sales_total</th>\n",
       "    </tr>\n",
       "    <tr>\n",
       "      <th>sale_date</th>\n",
       "      <th></th>\n",
       "      <th></th>\n",
       "    </tr>\n",
       "  </thead>\n",
       "  <tbody>\n",
       "    <tr>\n",
       "      <th>2015-01-31</th>\n",
       "      <td>618998.166667</td>\n",
       "      <td>3.329175e+06</td>\n",
       "    </tr>\n",
       "    <tr>\n",
       "      <th>2015-02-28</th>\n",
       "      <td>617802.166667</td>\n",
       "      <td>3.319692e+06</td>\n",
       "    </tr>\n",
       "    <tr>\n",
       "      <th>2015-03-31</th>\n",
       "      <td>797436.166667</td>\n",
       "      <td>4.290394e+06</td>\n",
       "    </tr>\n",
       "    <tr>\n",
       "      <th>2015-04-30</th>\n",
       "      <td>890952.166667</td>\n",
       "      <td>4.784648e+06</td>\n",
       "    </tr>\n",
       "    <tr>\n",
       "      <th>2015-05-31</th>\n",
       "      <td>993387.166667</td>\n",
       "      <td>5.345546e+06</td>\n",
       "    </tr>\n",
       "  </tbody>\n",
       "</table>\n",
       "</div>"
      ],
      "text/plain": [
       "              sale_amount   sales_total\n",
       "sale_date                              \n",
       "2015-01-31  618998.166667  3.329175e+06\n",
       "2015-02-28  617802.166667  3.319692e+06\n",
       "2015-03-31  797436.166667  4.290394e+06\n",
       "2015-04-30  890952.166667  4.784648e+06\n",
       "2015-05-31  993387.166667  5.345546e+06"
      ]
     },
     "execution_count": 89,
     "metadata": {},
     "output_type": "execute_result"
    }
   ],
   "source": [
    "yhat_df.head()"
   ]
  },
  {
   "cell_type": "code",
   "execution_count": 90,
   "id": "59939d3f",
   "metadata": {},
   "outputs": [],
   "source": [
    "yhat_df.index = validate.index"
   ]
  },
  {
   "cell_type": "code",
   "execution_count": 91,
   "id": "9dac29b0",
   "metadata": {},
   "outputs": [
    {
     "name": "stdout",
     "output_type": "stream",
     "text": [
      "sales_total -- RMSE: 75034\n"
     ]
    },
    {
     "data": {
      "image/png": "[encoded data removed]",
      "text/plain": [
       "<Figure size 864x288 with 1 Axes>"
      ]
     },
     "metadata": {
      "needs_background": "light"
     },
     "output_type": "display_data"
    }
   ],
   "source": [
    "plot_and_eval('sales_total')"
   ]
  },
  {
   "cell_type": "code",
   "execution_count": 92,
   "id": "c8092b68",
   "metadata": {},
   "outputs": [
    {
     "name": "stdout",
     "output_type": "stream",
     "text": [
      "sale_amount -- RMSE: 13676\n"
     ]
    },
    {
     "data": {
      "image/png": "[encoded data removed]",
      "text/plain": [
       "<Figure size 864x288 with 1 Axes>"
      ]
     },
     "metadata": {
      "needs_background": "light"
     },
     "output_type": "display_data"
    }
   ],
   "source": [
    "plot_and_eval('sale_amount')"
   ]
  },
  {
   "cell_type": "code",
   "execution_count": 93,
   "id": "1dc86bf6",
   "metadata": {},
   "outputs": [
    {
     "data": {
      "text/html": [
       "<div>\n",
       "<style scoped>\n",
       "    .dataframe tbody tr th:only-of-type {\n",
       "        vertical-align: middle;\n",
       "    }\n",
       "\n",
       "    .dataframe tbody tr th {\n",
       "        vertical-align: top;\n",
       "    }\n",
       "\n",
       "    .dataframe thead th {\n",
       "        text-align: right;\n",
       "    }\n",
       "</style>\n",
       "<table border=\"1\" class=\"dataframe\">\n",
       "  <thead>\n",
       "    <tr style=\"text-align: right;\">\n",
       "      <th></th>\n",
       "      <th>model_type</th>\n",
       "      <th>target_var</th>\n",
       "      <th>rmse</th>\n",
       "    </tr>\n",
       "  </thead>\n",
       "  <tbody>\n",
       "    <tr>\n",
       "      <th>0</th>\n",
       "      <td>last_observed_value</td>\n",
       "      <td>sales_total</td>\n",
       "      <td>1620001.0</td>\n",
       "    </tr>\n",
       "    <tr>\n",
       "      <th>1</th>\n",
       "      <td>last_observed_value</td>\n",
       "      <td>sale_amount</td>\n",
       "      <td>301773.0</td>\n",
       "    </tr>\n",
       "    <tr>\n",
       "      <th>2</th>\n",
       "      <td>simple_average</td>\n",
       "      <td>sales_total</td>\n",
       "      <td>1089633.0</td>\n",
       "    </tr>\n",
       "    <tr>\n",
       "      <th>3</th>\n",
       "      <td>simple_average</td>\n",
       "      <td>sale_amount</td>\n",
       "      <td>202750.0</td>\n",
       "    </tr>\n",
       "    <tr>\n",
       "      <th>4</th>\n",
       "      <td>30 Day Rolling Average</td>\n",
       "      <td>sales_total</td>\n",
       "      <td>1021506.0</td>\n",
       "    </tr>\n",
       "    <tr>\n",
       "      <th>5</th>\n",
       "      <td>30 Day Rolling Average</td>\n",
       "      <td>sale_amount</td>\n",
       "      <td>190064.0</td>\n",
       "    </tr>\n",
       "    <tr>\n",
       "      <th>6</th>\n",
       "      <td>Holts linear trend</td>\n",
       "      <td>sales_total</td>\n",
       "      <td>1526644.0</td>\n",
       "    </tr>\n",
       "    <tr>\n",
       "      <th>7</th>\n",
       "      <td>Holts linear trend</td>\n",
       "      <td>sale_amount</td>\n",
       "      <td>283048.0</td>\n",
       "    </tr>\n",
       "    <tr>\n",
       "      <th>8</th>\n",
       "      <td>Previous cycle</td>\n",
       "      <td>sales_total</td>\n",
       "      <td>75034.0</td>\n",
       "    </tr>\n",
       "    <tr>\n",
       "      <th>9</th>\n",
       "      <td>Previous cycle</td>\n",
       "      <td>sale_amount</td>\n",
       "      <td>13676.0</td>\n",
       "    </tr>\n",
       "  </tbody>\n",
       "</table>\n",
       "</div>"
      ],
      "text/plain": [
       "               model_type   target_var       rmse\n",
       "0     last_observed_value  sales_total  1620001.0\n",
       "1     last_observed_value  sale_amount   301773.0\n",
       "2          simple_average  sales_total  1089633.0\n",
       "3          simple_average  sale_amount   202750.0\n",
       "4  30 Day Rolling Average  sales_total  1021506.0\n",
       "5  30 Day Rolling Average  sale_amount   190064.0\n",
       "6      Holts linear trend  sales_total  1526644.0\n",
       "7      Holts linear trend  sale_amount   283048.0\n",
       "8          Previous cycle  sales_total    75034.0\n",
       "9          Previous cycle  sale_amount    13676.0"
      ]
     },
     "execution_count": 93,
     "metadata": {},
     "output_type": "execute_result"
    }
   ],
   "source": [
    "eval_df = append_eval_df(model_type = 'Previous cycle', target_var = 'sales_total')\n",
    "eval_df = append_eval_df(model_type = 'Previous cycle', target_var = 'sale_amount')\n",
    "eval_df"
   ]
  },
  {
   "cell_type": "markdown",
   "id": "29a1795b",
   "metadata": {},
   "source": [
    "---"
   ]
  },
  {
   "cell_type": "code",
   "execution_count": null,
   "id": "0a98f33a",
   "metadata": {},
   "outputs": [],
   "source": []
  }
 ],
 "metadata": {
  "kernelspec": {
   "display_name": "Python 3 (ipykernel)",
   "language": "python",
   "name": "python3"
  },
  "language_info": {
   "codemirror_mode": {
    "name": "ipython",
    "version": 3
   },
   "file_extension": ".py",
   "mimetype": "text/x-python",
   "name": "python",
   "nbconvert_exporter": "python",
   "pygments_lexer": "ipython3",
   "version": "3.9.7"
  }
 },
 "nbformat": 4,
 "nbformat_minor": 5
}
